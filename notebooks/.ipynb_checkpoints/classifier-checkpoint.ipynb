{
 "cells": [
  {
   "cell_type": "markdown",
   "metadata": {},
   "source": [
    "# Image Classification with SciKit-Learn"
   ]
  },
  {
   "cell_type": "markdown",
   "metadata": {},
   "source": [
    "The function below will iterate through the plant images (classess) subfolders and prepare a train dataset along with a labels array and a class names list."
   ]
  },
  {
   "cell_type": "code",
   "execution_count": 1,
   "metadata": {},
   "outputs": [],
   "source": [
    "def prep_data (folder):\n",
    "    # iterate through folders, assembling feature, label, and classname data objects\n",
    "    import os\n",
    "    import numpy as np\n",
    "    import matplotlib.pyplot as plt\n",
    "\n",
    "    class_id = 0\n",
    "    features = []\n",
    "    labels = np.array([])\n",
    "    classnames = []\n",
    "    for root, dirs, filenames in os.walk(folder):\n",
    "        for d in sorted(dirs):\n",
    "            print(\"Reading data from\", d)\n",
    "            # use the folder name as the class name for this label\n",
    "            classnames.append(d)\n",
    "            files = os.listdir(os.path.join(root,d))\n",
    "            for f in files:\n",
    "                # Load the image file\n",
    "                imgFile = os.path.join(root,d, f)\n",
    "                img = plt.imread(imgFile)\n",
    "                # The image array is a multidimensional numpy array\n",
    "                # - flatten it to a single array of pixel values for scikit-learn\n",
    "                # - and add it to the list of features\n",
    "                features.append(img.ravel())\n",
    "                \n",
    "                # Add it to the numpy array of labels\n",
    "                labels = np.append(labels, class_id )\n",
    "            class_id  += 1\n",
    "            \n",
    "    # Convert the list of features into a numpy array\n",
    "    features = np.array(features)\n",
    "    \n",
    "    return features, labels, classnames"
   ]
  },
  {
   "cell_type": "code",
   "execution_count": 4,
   "metadata": {},
   "outputs": [],
   "source": [
    "# The images are in a folder named 'shapes/training'\n",
    "training_folder_name = \"../utilities/training_data/raw\""
   ]
  },
  {
   "cell_type": "code",
   "execution_count": 5,
   "metadata": {},
   "outputs": [
    {
     "name": "stdout",
     "output_type": "stream",
     "text": [
      "Reading data from Campanula_persicifolia_L\n",
      "Reading data from Cichorium_intybus_L\n",
      "Reading data from Lepidium_draba_L\n",
      "Reading data from Leucanthemum_vulgare_(Vaill)_Lam\n",
      "Reading data from Malva_sylvestris_L\n",
      "14799 features\n",
      "14799 labels\n",
      "5 classes: ['Campanula_persicifolia_L', 'Cichorium_intybus_L', 'Lepidium_draba_L', 'Leucanthemum_vulgare_(Vaill)_Lam', 'Malva_sylvestris_L']\n"
     ]
    }
   ],
   "source": [
    "# Prepare the image data\n",
    "features, labels, classnames = prep_data(training_folder_name)\n",
    "print(len(features), 'features')\n",
    "print(len(labels), 'labels')\n",
    "print(len(classnames), 'classes:', classnames)"
   ]
  },
  {
   "cell_type": "code",
   "execution_count": 6,
   "metadata": {},
   "outputs": [
    {
     "name": "stdout",
     "output_type": "stream",
     "text": [
      "Feature Shape: (14799, 22500)\n",
      "Labels Shape: (14799,)\n"
     ]
    }
   ],
   "source": [
    "print('Feature Shape:',features.shape)\n",
    "print('Labels Shape:',labels.shape)"
   ]
  },
  {
   "cell_type": "markdown",
   "metadata": {},
   "source": [
    "Now that the image data is prepared, we can split it into training (70%) and validation (30%) subsets:"
   ]
  },
  {
   "cell_type": "code",
   "execution_count": 7,
   "metadata": {},
   "outputs": [
    {
     "name": "stdout",
     "output_type": "stream",
     "text": [
      "Training records: 10359\n",
      "Validation records: 4440\n"
     ]
    }
   ],
   "source": [
    "# split into training and testing sets\n",
    "from sklearn.model_selection import train_test_split\n",
    "\n",
    "X_train, X_val, y_train, y_val = train_test_split(features, labels, test_size=0.30)\n",
    "\n",
    "print('Training records:',y_train.size)\n",
    "print('Validation records:',y_val.size)"
   ]
  },
  {
   "cell_type": "code",
   "execution_count": 10,
   "metadata": {},
   "outputs": [
    {
     "data": {
      "text/plain": [
       "array([157, 155, 156, ...,  69,  67,  84], dtype=uint8)"
      ]
     },
     "execution_count": 10,
     "metadata": {},
     "output_type": "execute_result"
    }
   ],
   "source": [
    "X_train[0]"
   ]
  },
  {
   "cell_type": "code",
   "execution_count": null,
   "metadata": {},
   "outputs": [],
   "source": []
  }
 ],
 "metadata": {
  "kernelspec": {
   "display_name": "Python 3",
   "language": "python",
   "name": "python3"
  },
  "language_info": {
   "codemirror_mode": {
    "name": "ipython",
    "version": 3
   },
   "file_extension": ".py",
   "mimetype": "text/x-python",
   "name": "python",
   "nbconvert_exporter": "python",
   "pygments_lexer": "ipython3",
   "version": "3.7.7"
  },
  "varInspector": {
   "cols": {
    "lenName": 16,
    "lenType": 16,
    "lenVar": 40
   },
   "kernels_config": {
    "python": {
     "delete_cmd_postfix": "",
     "delete_cmd_prefix": "del ",
     "library": "var_list.py",
     "varRefreshCmd": "print(var_dic_list())"
    },
    "r": {
     "delete_cmd_postfix": ") ",
     "delete_cmd_prefix": "rm(",
     "library": "var_list.r",
     "varRefreshCmd": "cat(var_dic_list()) "
    }
   },
   "types_to_exclude": [
    "module",
    "function",
    "builtin_function_or_method",
    "instance",
    "_Feature"
   ],
   "window_display": false
  }
 },
 "nbformat": 4,
 "nbformat_minor": 4
}
