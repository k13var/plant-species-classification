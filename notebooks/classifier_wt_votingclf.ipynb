{
 "cells": [
  {
   "cell_type": "code",
   "execution_count": 16,
   "metadata": {},
   "outputs": [],
   "source": [
    "import os\n",
    "import cv2\n",
    "import numpy as np\n",
    "import pandas as pd\n",
    "import matplotlib.pyplot as plt\n",
    "\n",
    "from sklearn.model_selection import train_test_split\n",
    "\n",
    "from sklearn.preprocessing import StandardScaler\n",
    "from sklearn.decomposition import PCA\n",
    "\n",
    "from sklearn.ensemble import RandomForestClassifier\n",
    "from sklearn.linear_model import LogisticRegression\n",
    "from sklearn.svm import SVC\n",
    "from sklearn.neighbors import KNeighborsClassifier\n",
    "from sklearn.ensemble import VotingClassifier\n",
    "from sklearn.ensemble import StackingClassifier\n",
    "\n",
    "from sklearn.model_selection import cross_val_score\n",
    "from sklearn.model_selection import GridSearchCV\n",
    "\n",
    "from sklearn.metrics import classification_report\n",
    "from sklearn.metrics import accuracy_score\n",
    "from sklearn.metrics import confusion_matrix\n",
    "from sklearn.metrics import plot_confusion_matrix\n",
    "from sklearn.metrics import roc_auc_score\n",
    "from sklearn.preprocessing import LabelBinarizer\n",
    "\n",
    "from sklearn.pipeline import Pipeline\n",
    "# import pickle\n",
    "from sklearn.externals import joblib"
   ]
  },
  {
   "cell_type": "code",
   "execution_count": 3,
   "metadata": {},
   "outputs": [],
   "source": [
    "def prep_data (folder):\n",
    "    # iterate through folders, assembling feature, label, and classname data objects\n",
    "    class_id = 0\n",
    "    features = []\n",
    "    labels = np.array([])\n",
    "    classnames = []\n",
    "    for root, dirs, filenames in os.walk(folder):\n",
    "        for d in sorted(dirs):\n",
    "            print(\"Reading data from\", d)\n",
    "            # use the folder name as the class name for this label\n",
    "            classnames.append(d)\n",
    "            files = os.listdir(os.path.join(root,d))\n",
    "            for f in files:\n",
    "                # Load the image file\n",
    "                imgFile = os.path.join(root,d, f)\n",
    "                imag = cv2.imread(imgFile, 0)\n",
    "                if cv2.countNonZero(imag) <= 500:\n",
    "                    pass\n",
    "                else:\n",
    "                    img = plt.imread(imgFile)\n",
    "                    # The image array is a multidimensional numpy array\n",
    "                    # - flatten it to a single array of pixel values for scikit-learn\n",
    "                    # - and add it to the list of features\n",
    "                    features.append(img.ravel())\n",
    "\n",
    "                    # Add it to the numpy array of labels\n",
    "                    labels = np.append(labels, class_id )\n",
    "            class_id  += 1\n",
    "            \n",
    "    # convert the list of features into a numpy array\n",
    "    features = np.array(features)\n",
    "    \n",
    "    return features, labels, classnames"
   ]
  },
  {
   "cell_type": "code",
   "execution_count": 4,
   "metadata": {},
   "outputs": [],
   "source": [
    "#the images are in a folder named 'plantnetSimplon/training_data_/training'\n",
    "training_folder_name = \"../plantnetSimplon/training_data_/training\""
   ]
  },
  {
   "cell_type": "code",
   "execution_count": 5,
   "metadata": {},
   "outputs": [
    {
     "name": "stdout",
     "output_type": "stream",
     "text": [
      "Reading data from Cichorium_intybus_L\n",
      "Reading data from Leucanthemum_vulgare_(Vaill)_Lam\n",
      "Reading data from Malva_sylvestris_L\n",
      "Reading data from Papaver_rhoeas_L\n",
      "Reading data from Ranunculus_bulbosus_L\n",
      "3429 features\n",
      "3429 labels\n",
      "5 classes: ['Cichorium_intybus_L', 'Leucanthemum_vulgare_(Vaill)_Lam', 'Malva_sylvestris_L', 'Papaver_rhoeas_L', 'Ranunculus_bulbosus_L']\n"
     ]
    }
   ],
   "source": [
    "# prepare the image data\n",
    "features, labels, classnames = prep_data(training_folder_name)\n",
    "print(len(features), 'features')\n",
    "print(len(labels), 'labels')\n",
    "print(len(classnames), 'classes:', classnames)"
   ]
  },
  {
   "cell_type": "code",
   "execution_count": 6,
   "metadata": {},
   "outputs": [
    {
     "name": "stdout",
     "output_type": "stream",
     "text": [
      "Feature Shape: (3429, 67500)\n",
      "Labels Shape: (3429,)\n"
     ]
    }
   ],
   "source": [
    "print('Feature Shape:',features.shape)\n",
    "print('Labels Shape:',labels.shape)"
   ]
  },
  {
   "cell_type": "code",
   "execution_count": 7,
   "metadata": {},
   "outputs": [
    {
     "name": "stdout",
     "output_type": "stream",
     "text": [
      "Training records: 2400\n",
      "Validation records: 1029\n"
     ]
    }
   ],
   "source": [
    "# split into training and testing sets\n",
    "X_train, X_val, y_train, y_val = train_test_split(features, labels, test_size=0.30, random_state=42)\n",
    "\n",
    "print('Training records:',y_train.size)\n",
    "print('Validation records:',y_val.size)"
   ]
  },
  {
   "cell_type": "code",
   "execution_count": 11,
   "metadata": {},
   "outputs": [],
   "source": [
    "# standardize features by removing the mean and scaling to unit variance\n",
    "X_train_float = X_train.astype('float64')\n",
    "X_val_float = X_val.astype('float64')\n",
    "\n",
    "scaler = StandardScaler()\n",
    "X_train_scaled = scaler.fit_transform(X_train_float)\n",
    "X_val_scaled = scaler.fit_transform(X_val_float)"
   ]
  },
  {
   "cell_type": "code",
   "execution_count": 82,
   "metadata": {},
   "outputs": [
    {
     "data": {
      "image/png": "[encoded data removed]",
      "text/plain": [
       "<Figure size 576x360 with 1 Axes>"
      ]
     },
     "metadata": {
      "needs_background": "light"
     },
     "output_type": "display_data"
    }
   ],
   "source": [
    "pca = PCA(n_components=300, svd_solver='randomized',\n",
    "          whiten=True).fit(X_train_scaled)\n",
    "\n",
    "pca_var = pca.explained_variance_ratio_\n",
    "pca_var_sum = np.cumsum(pca.explained_variance_ratio_)\n",
    "pcas = list(range(1, 301, 1))\n",
    "\n",
    "plt.figure(figsize=(8,5))\n",
    "plt.plot(pcas, pca_var, 'b-', linewidth=2, label = 'Variance')\n",
    "plt.plot(pcas, pca_var_sum, 'k-', linewidth=2, label = 'Cumulative variance')\n",
    "plt.title('Scree Plot')\n",
    "plt.xlabel('Principal Component')\n",
    "plt.ylabel('Eigenvalue')\n",
    "plt.legend()\n",
    "plt.show()"
   ]
  },
  {
   "cell_type": "code",
   "execution_count": 45,
   "metadata": {},
   "outputs": [],
   "source": [
    "def pca_cross_validation(X_train_scaled, y_train, n_components, predictor):        \n",
    "    d = {\"lr\" :LogisticRegression(), \n",
    "         \"rf\":RandomForestClassifier(),\n",
    "         \"svc\":SVC(),\n",
    "         \"knn\":KNeighborsClassifier()}\n",
    "    df = pd.DataFrame(index = n_components)\n",
    "    # iterate over PCAs\n",
    "    for component in n_components:\n",
    "        pca = PCA(n_components=component, svd_solver='randomized',whiten=True)\n",
    "        X_train_pca = pca.fit_transform(X_train_scaled)\n",
    "        df.loc[component,'explained variance'] = round(pca.explained_variance_ratio_.sum(),3)\n",
    "        # iterate over models for each PCA\n",
    "        for col, model in d.items():\n",
    "            cv_scores = cross_val_score(model, X_train_pca, y_train, cv=3, n_jobs = -1)\n",
    "            df.loc[component,'_'.join([col, 'mean'])] = round(cv_scores.mean(),3)\n",
    "            df.loc[component,'_'.join([col, 'std'])] =  round(cv_scores.std(),3)\n",
    "\n",
    "    return df"
   ]
  },
  {
   "cell_type": "code",
   "execution_count": 46,
   "metadata": {},
   "outputs": [
    {
     "data": {
      "text/html": [
       "<div>\n",
       "<style scoped>\n",
       "    .dataframe tbody tr th:only-of-type {\n",
       "        vertical-align: middle;\n",
       "    }\n",
       "\n",
       "    .dataframe tbody tr th {\n",
       "        vertical-align: top;\n",
       "    }\n",
       "\n",
       "    .dataframe thead th {\n",
       "        text-align: right;\n",
       "    }\n",
       "</style>\n",
       "<table border=\"1\" class=\"dataframe\">\n",
       "  <thead>\n",
       "    <tr style=\"text-align: right;\">\n",
       "      <th></th>\n",
       "      <th>explained variance</th>\n",
       "      <th>lr_mean</th>\n",
       "      <th>lr_std</th>\n",
       "      <th>rf_mean</th>\n",
       "      <th>rf_std</th>\n",
       "      <th>svc_mean</th>\n",
       "      <th>svc_std</th>\n",
       "      <th>knn_mean</th>\n",
       "      <th>knn_std</th>\n",
       "    </tr>\n",
       "  </thead>\n",
       "  <tbody>\n",
       "    <tr>\n",
       "      <th>100</th>\n",
       "      <td>0.689</td>\n",
       "      <td>0.836</td>\n",
       "      <td>0.012</td>\n",
       "      <td>0.700</td>\n",
       "      <td>0.014</td>\n",
       "      <td>0.738</td>\n",
       "      <td>0.023</td>\n",
       "      <td>0.571</td>\n",
       "      <td>0.014</td>\n",
       "    </tr>\n",
       "    <tr>\n",
       "      <th>150</th>\n",
       "      <td>0.740</td>\n",
       "      <td>0.805</td>\n",
       "      <td>0.007</td>\n",
       "      <td>0.674</td>\n",
       "      <td>0.017</td>\n",
       "      <td>0.707</td>\n",
       "      <td>0.014</td>\n",
       "      <td>0.547</td>\n",
       "      <td>0.014</td>\n",
       "    </tr>\n",
       "    <tr>\n",
       "      <th>200</th>\n",
       "      <td>0.776</td>\n",
       "      <td>0.768</td>\n",
       "      <td>0.011</td>\n",
       "      <td>0.677</td>\n",
       "      <td>0.009</td>\n",
       "      <td>0.668</td>\n",
       "      <td>0.007</td>\n",
       "      <td>0.528</td>\n",
       "      <td>0.017</td>\n",
       "    </tr>\n",
       "    <tr>\n",
       "      <th>250</th>\n",
       "      <td>0.804</td>\n",
       "      <td>0.751</td>\n",
       "      <td>0.006</td>\n",
       "      <td>0.655</td>\n",
       "      <td>0.011</td>\n",
       "      <td>0.650</td>\n",
       "      <td>0.011</td>\n",
       "      <td>0.495</td>\n",
       "      <td>0.012</td>\n",
       "    </tr>\n",
       "    <tr>\n",
       "      <th>300</th>\n",
       "      <td>0.827</td>\n",
       "      <td>0.713</td>\n",
       "      <td>0.007</td>\n",
       "      <td>0.644</td>\n",
       "      <td>0.018</td>\n",
       "      <td>0.624</td>\n",
       "      <td>0.016</td>\n",
       "      <td>0.474</td>\n",
       "      <td>0.018</td>\n",
       "    </tr>\n",
       "  </tbody>\n",
       "</table>\n",
       "</div>"
      ],
      "text/plain": [
       "     explained variance  lr_mean  lr_std  rf_mean  rf_std  svc_mean  svc_std  \\\n",
       "100               0.689    0.836   0.012    0.700   0.014     0.738    0.023   \n",
       "150               0.740    0.805   0.007    0.674   0.017     0.707    0.014   \n",
       "200               0.776    0.768   0.011    0.677   0.009     0.668    0.007   \n",
       "250               0.804    0.751   0.006    0.655   0.011     0.650    0.011   \n",
       "300               0.827    0.713   0.007    0.644   0.018     0.624    0.016   \n",
       "\n",
       "     knn_mean  knn_std  \n",
       "100     0.571    0.014  \n",
       "150     0.547    0.014  \n",
       "200     0.528    0.017  \n",
       "250     0.495    0.012  \n",
       "300     0.474    0.018  "
      ]
     },
     "execution_count": 46,
     "metadata": {},
     "output_type": "execute_result"
    }
   ],
   "source": [
    "# compare the cross-validation scores for different number of PCA components\n",
    "n_components = [100, 150, 200, 250, 300]\n",
    "predictor = [LogisticRegression(), RandomForestClassifier(), SVC(), KNeighborsClassifier()]\n",
    "\n",
    "pca_cross_validation(X_train_scaled, y_train, n_components, predictor)"
   ]
  },
  {
   "cell_type": "code",
   "execution_count": 47,
   "metadata": {},
   "outputs": [],
   "source": [
    "# the optimal choice is the PCA with 150 components \n",
    "pca = PCA(n_components=150, svd_solver='randomized',\n",
    "          whiten=True).fit(X_train_scaled)\n",
    "\n",
    "X_train_pca = pca.transform(X_train_scaled)\n",
    "X_val_pca = pca.transform(X_val_scaled)"
   ]
  },
  {
   "cell_type": "code",
   "execution_count": 48,
   "metadata": {},
   "outputs": [],
   "source": [
    "def fine_tune_predictor(predictor, grid):\n",
    "    predictor_cv = GridSearchCV(predictor, grid, cv=3)\n",
    "    predictor_cv.fit(X_train_pca, y_train)\n",
    "    print(\"Tuned hpyerparameters :(best parameters) \", predictor_cv.best_params_)\n",
    "    print(\"Accuracy :\",predictor_cv.best_score_)"
   ]
  },
  {
   "cell_type": "code",
   "execution_count": 49,
   "metadata": {},
   "outputs": [],
   "source": [
    "parameters_svm = {'C':[1, 10, 100], 'gamma':[0.0001, 0.001, 0.01, 0.1,'auto']}\n",
    "\n",
    "parameters_rf = {'n_estimators': [10, 50, 100], 'min_samples_leaf': [2,4], 'min_samples_split':[2,6], 'max_depth': [10, 50, 100]}\n",
    "\n",
    "parameters_lr = {'penalty': ['l1', 'l2'],'C':[0.001,0.01,1,10], 'solver':['liblinear', 'saga']}"
   ]
  },
  {
   "cell_type": "code",
   "execution_count": 50,
   "metadata": {},
   "outputs": [
    {
     "name": "stdout",
     "output_type": "stream",
     "text": [
      "Tuned hpyerparameters :(best parameters)  {'C': 10, 'gamma': 0.001}\n",
      "Accuracy : 0.7579166666666667\n"
     ]
    }
   ],
   "source": [
    "fine_tune_predictor(SVC(), parameters_svm)"
   ]
  },
  {
   "cell_type": "code",
   "execution_count": 51,
   "metadata": {},
   "outputs": [
    {
     "name": "stdout",
     "output_type": "stream",
     "text": [
      "Tuned hpyerparameters :(best parameters)  {'max_depth': 100, 'min_samples_leaf': 2, 'min_samples_split': 2, 'n_estimators': 100}\n",
      "Accuracy : 0.6924999999999999\n"
     ]
    }
   ],
   "source": [
    "fine_tune_predictor(RandomForestClassifier(n_jobs = -1), parameters_rf)"
   ]
  },
  {
   "cell_type": "code",
   "execution_count": 53,
   "metadata": {},
   "outputs": [
    {
     "name": "stdout",
     "output_type": "stream",
     "text": [
      "Tuned hpyerparameters :(best parameters)  {'C': 1, 'penalty': 'l1', 'solver': 'saga'}\n",
      "Accuracy : 0.8491666666666666\n"
     ]
    }
   ],
   "source": [
    "fine_tune_predictor(LogisticRegression(max_iter=10000), parameters_lr)"
   ]
  },
  {
   "cell_type": "code",
   "execution_count": 66,
   "metadata": {},
   "outputs": [],
   "source": [
    "svc_clf = SVC(C=10, gamma=0.001, kernel='rbf', probability=True, random_state=42)\n",
    "lr_clf = LogisticRegression(max_iter=10000, C=1, penalty='l1', solver='saga', random_state=42)\n",
    "rf_clf = RandomForestClassifier(n_jobs = -1, max_depth=100, min_samples_leaf=2,\n",
    "                                          min_samples_split=2, n_estimators=100, random_state=42)\n",
    "voting_clf = VotingClassifier(estimators=[('lr', lr_clf), ('svc', svc_clf)], voting='soft')\n",
    "stacking_clf = StackingClassifier(estimators=[('lr', lr_clf), ('svc', svc_clf)])"
   ]
  },
  {
   "cell_type": "code",
   "execution_count": 67,
   "metadata": {},
   "outputs": [
    {
     "name": "stdout",
     "output_type": "stream",
     "text": [
      "LogisticRegression 0.8726919339164237\n",
      "SVC 0.8202137998056366\n",
      "RandomForestClassifier 0.6977648202137998\n",
      "VotingClassifier 0.8785228377065112\n",
      "StackingClassifier 0.8726919339164237\n"
     ]
    }
   ],
   "source": [
    "# comparing the accuracy of individual estimators and ensemble models\n",
    "for clf in (lr_clf, svc_clf, rf_clf, voting_clf, stacking_clf):\n",
    "    clf.fit(X_train_pca, y_train)\n",
    "    y_pred = clf.predict(X_val_pca)\n",
    "    print(clf.__class__.__name__, accuracy_score(y_val, y_pred))"
   ]
  },
  {
   "cell_type": "code",
   "execution_count": 19,
   "metadata": {},
   "outputs": [
    {
     "data": {
      "text/plain": [
       "Pipeline(memory=None,\n",
       "         steps=[('scl',\n",
       "                 StandardScaler(copy=True, with_mean=True, with_std=True)),\n",
       "                ('pca',\n",
       "                 PCA(copy=True, iterated_power='auto', n_components=150,\n",
       "                     random_state=None, svd_solver='randomized', tol=0.0,\n",
       "                     whiten=True)),\n",
       "                ('voting_clf',\n",
       "                 VotingClassifier(estimators=[('lr',\n",
       "                                               LogisticRegression(C=1,\n",
       "                                                                  class_weight=None,\n",
       "                                                                  dual=False,\n",
       "                                                                  fit_intercept=True,\n",
       "                                                                  intercept_scali...\n",
       "                                                                  solver='saga',\n",
       "                                                                  tol=0.0001,\n",
       "                                                                  verbose=0,\n",
       "                                                                  warm_start=False)),\n",
       "                                              ('svc',\n",
       "                                               SVC(C=10, break_ties=False,\n",
       "                                                   cache_size=200,\n",
       "                                                   class_weight=None, coef0=0.0,\n",
       "                                                   decision_function_shape='ovr',\n",
       "                                                   degree=3, gamma=0.001,\n",
       "                                                   kernel='rbf', max_iter=-1,\n",
       "                                                   probability=True,\n",
       "                                                   random_state=42,\n",
       "                                                   shrinking=True, tol=0.001,\n",
       "                                                   verbose=False))],\n",
       "                                  flatten_transform=True, n_jobs=None,\n",
       "                                  voting='soft', weights=None))],\n",
       "         verbose=False)"
      ]
     },
     "execution_count": 19,
     "metadata": {},
     "output_type": "execute_result"
    }
   ],
   "source": [
    "# put everything together in the pipeline\n",
    "steps = [('scl', StandardScaler()), \n",
    "         ('pca', PCA(n_components=150, svd_solver='randomized',whiten=True)), \n",
    "         ('voting_clf', VotingClassifier(estimators=[('lr', LogisticRegression(max_iter=10000,C=1, \n",
    "                                                                               penalty='l1',solver='saga', random_state=42)), \n",
    "                                                     ('svc', SVC(C=10, gamma=0.001, kernel='rbf', probability=True, \n",
    "                                                                 random_state=42))], voting='soft'))]\n",
    "\n",
    "pipe = Pipeline(steps)\n",
    "pipe.fit(X_train, y_train)"
   ]
  },
  {
   "cell_type": "code",
   "execution_count": null,
   "metadata": {},
   "outputs": [],
   "source": [
    "# serialize the pipeline\n",
    "joblib.dump(pipe, 'pipeline_model.joblib')"
   ]
  },
  {
   "cell_type": "code",
   "execution_count": 20,
   "metadata": {},
   "outputs": [],
   "source": [
    "# make predictions\n",
    "y_pred = pipe.predict(X_val)"
   ]
  },
  {
   "cell_type": "code",
   "execution_count": 21,
   "metadata": {},
   "outputs": [
    {
     "name": "stdout",
     "output_type": "stream",
     "text": [
      "                                  precision    recall  f1-score   support\n",
      "\n",
      "             Cichorium_intybus_L       0.93      0.88      0.90       237\n",
      "Leucanthemum_vulgare_(Vaill)_Lam       0.85      0.86      0.85       210\n",
      "              Malva_sylvestris_L       0.84      0.90      0.87       210\n",
      "                Papaver_rhoeas_L       0.98      0.90      0.94       201\n",
      "           Ranunculus_bulbosus_L       0.84      0.90      0.87       171\n",
      "\n",
      "                        accuracy                           0.89      1029\n",
      "                       macro avg       0.89      0.89      0.89      1029\n",
      "                    weighted avg       0.89      0.89      0.89      1029\n",
      "\n"
     ]
    }
   ],
   "source": [
    "print(classification_report(y_val, y_pred, target_names=classnames))"
   ]
  },
  {
   "cell_type": "code",
   "execution_count": 22,
   "metadata": {},
   "outputs": [
    {
     "data": {
      "text/plain": [
       "array([[208,   7,  18,   0,   4],\n",
       "       [  8, 180,   4,   0,  18],\n",
       "       [  6,   8, 189,   2,   5],\n",
       "       [  0,   4,  14, 181,   2],\n",
       "       [  2,  13,   1,   1, 154]], dtype=int64)"
      ]
     },
     "execution_count": 22,
     "metadata": {},
     "output_type": "execute_result"
    }
   ],
   "source": [
    "confusion_matrix(y_val, y_pred)"
   ]
  },
  {
   "cell_type": "code",
   "execution_count": 24,
   "metadata": {},
   "outputs": [
    {
     "data": {
      "image/png": "[encoded data removed]",
      "text/plain": [
       "<Figure size 432x288 with 2 Axes>"
      ]
     },
     "metadata": {
      "needs_background": "light"
     },
     "output_type": "display_data"
    }
   ],
   "source": [
    "disp = plot_confusion_matrix(pipe, X_val, y_val,\n",
    "                             display_labels=classnames,\n",
    "                             cmap=plt.cm.Blues,\n",
    "                             normalize='true')\n",
    "disp.ax_.set_title(\"Normalized confusion matrix\")\n",
    "plt.show()"
   ]
  },
  {
   "cell_type": "code",
   "execution_count": 27,
   "metadata": {},
   "outputs": [],
   "source": [
    "def multiclass_roc_auc_score(y_val, y_pred, average=\"macro\"):\n",
    "    lb = LabelBinarizer()\n",
    "    lb.fit(y_val)\n",
    "    y_val_b = lb.transform(y_val)\n",
    "    y_pred_b = lb.transform(y_pred)\n",
    "    return roc_auc_score(y_val_b, y_pred_b, average=average)"
   ]
  },
  {
   "cell_type": "code",
   "execution_count": 28,
   "metadata": {},
   "outputs": [
    {
     "data": {
      "text/plain": [
       "0.9293988469047558"
      ]
     },
     "execution_count": 28,
     "metadata": {},
     "output_type": "execute_result"
    }
   ],
   "source": [
    "# evaluate the AUC ROC score\n",
    "multiclass_roc_auc_score(y_val, y_pred)"
   ]
  }
 ],
 "metadata": {
  "kernelspec": {
   "display_name": "Python 3",
   "language": "python",
   "name": "python3"
  },
  "language_info": {
   "codemirror_mode": {
    "name": "ipython",
    "version": 3
   },
   "file_extension": ".py",
   "mimetype": "text/x-python",
   "name": "python",
   "nbconvert_exporter": "python",
   "pygments_lexer": "ipython3",
   "version": "3.7.6"
  }
 },
 "nbformat": 4,
 "nbformat_minor": 4
}
